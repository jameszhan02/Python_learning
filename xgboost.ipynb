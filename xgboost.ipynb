{
 "cells": [
  {
   "cell_type": "code",
   "execution_count": 1,
   "metadata": {},
   "outputs": [],
   "source": [
    "%matplotlib inline\n",
    "import warnings\n",
    "warnings.filterwarnings('ignore')\n",
    "\n",
    "import pandas as pd\n",
    "import numpy as np\n",
    "import os\n",
    "\n",
    "from xgboost import XGBClassifier\n",
    "import xgboost as xgb\n",
    "\n",
    "\n",
    "from sklearn.metrics import accuracy_score\n",
    "from sklearn.model_selection import StratifiedKFold, KFold\n",
    "from sklearn.metrics import roc_auc_score\n"
   ]
  },
  {
   "cell_type": "code",
   "execution_count": 2,
   "metadata": {},
   "outputs": [
    {
     "name": "stdout",
     "output_type": "stream",
     "text": [
      "Wall time: 1min 2s\n"
     ]
    }
   ],
   "source": [
    "%%time\n",
    "train_df = pd.read_csv(r\"C:\\Users\\TimeUser\\Desktop\\contest\\train.csv\")\n",
    "test_df = pd.read_csv(r\"C:\\Users\\TimeUser\\Desktop\\contest\\test.csv\")"
   ]
  },
  {
   "cell_type": "code",
   "execution_count": 3,
   "metadata": {},
   "outputs": [],
   "source": [
    "n_splits = 9\n",
    "skf = StratifiedKFold(n_splits,True,615)\n",
    "feats = ['var_'+str(i) for i in range(200)]"
   ]
  },
  {
   "cell_type": "code",
   "execution_count": 4,
   "metadata": {},
   "outputs": [],
   "source": [
    "params = {\n",
    "    'objective':'binary:logistic',\n",
    "    #'booster':'gbdt',\n",
    "    'eval_metric':['auc'],\n",
    "    'eta':0.02,\n",
    "    #'num_leaf':35,\n",
    "    'subsample':0.8,\n",
    "    'colsample_bytree':0.8,\n",
    "    #'colsample_bynode':0.8\n",
    "    #'colsample_bylevel':0.8\n",
    "    #'sub_feature':0.05,\n",
    "    'reg_lambda':100,\n",
    "    'max_depth':6,\n",
    "    'min_child_weight':50,\n",
    "    'silent':1\n",
    "    #'min_gain_to_split':0.2\n",
    "}"
   ]
  },
  {
   "cell_type": "code",
   "execution_count": 5,
   "metadata": {},
   "outputs": [],
   "source": [
    "tst_xgb = xgb.DMatrix(test_df[feats])"
   ]
  },
  {
   "cell_type": "code",
   "execution_count": 6,
   "metadata": {},
   "outputs": [
    {
     "name": "stdout",
     "output_type": "stream",
     "text": [
      "Round 1\n",
      "[0]\ttrain-auc:0.571198\tvalid-auc:0.573422\n",
      "Multiple eval metrics have been passed: 'valid-auc' will be used for early stopping.\n",
      "\n",
      "Will train until valid-auc hasn't improved in 500 rounds.\n",
      "[500]\ttrain-auc:0.91492\tvalid-auc:0.858797\n",
      "[1000]\ttrain-auc:0.943503\tvalid-auc:0.879736\n",
      "[1500]\ttrain-auc:0.955932\tvalid-auc:0.887202\n",
      "[2000]\ttrain-auc:0.963206\tvalid-auc:0.890857\n",
      "[2500]\ttrain-auc:0.968296\tvalid-auc:0.89266\n",
      "[3000]\ttrain-auc:0.972343\tvalid-auc:0.893687\n",
      "[3500]\ttrain-auc:0.976146\tvalid-auc:0.894245\n",
      "[4000]\ttrain-auc:0.979667\tvalid-auc:0.894593\n",
      "[4500]\ttrain-auc:0.983097\tvalid-auc:0.894511\n",
      "Stopping. Best iteration:\n",
      "[4073]\ttrain-auc:0.980159\tvalid-auc:0.894632\n",
      "\n",
      "Round 2\n",
      "[0]\ttrain-auc:0.584671\tvalid-auc:0.578343\n",
      "Multiple eval metrics have been passed: 'valid-auc' will be used for early stopping.\n",
      "\n",
      "Will train until valid-auc hasn't improved in 500 rounds.\n",
      "[500]\ttrain-auc:0.913412\tvalid-auc:0.858233\n",
      "[1000]\ttrain-auc:0.942611\tvalid-auc:0.880664\n",
      "[1500]\ttrain-auc:0.955437\tvalid-auc:0.888852\n",
      "[2000]\ttrain-auc:0.962767\tvalid-auc:0.892651\n",
      "[2500]\ttrain-auc:0.967942\tvalid-auc:0.894697\n",
      "[3000]\ttrain-auc:0.972157\tvalid-auc:0.895977\n",
      "[3500]\ttrain-auc:0.975831\tvalid-auc:0.89661\n",
      "[4000]\ttrain-auc:0.979444\tvalid-auc:0.896978\n",
      "[4500]\ttrain-auc:0.983085\tvalid-auc:0.897172\n",
      "[5000]\ttrain-auc:0.986558\tvalid-auc:0.897309\n",
      "[5500]\ttrain-auc:0.989541\tvalid-auc:0.89729\n",
      "Stopping. Best iteration:\n",
      "[5072]\ttrain-auc:0.986991\tvalid-auc:0.897363\n",
      "\n",
      "Round 3\n",
      "[0]\ttrain-auc:0.573723\tvalid-auc:0.568938\n",
      "Multiple eval metrics have been passed: 'valid-auc' will be used for early stopping.\n",
      "\n",
      "Will train until valid-auc hasn't improved in 500 rounds.\n",
      "[500]\ttrain-auc:0.915946\tvalid-auc:0.858003\n",
      "[1000]\ttrain-auc:0.944492\tvalid-auc:0.879013\n",
      "[1500]\ttrain-auc:0.956757\tvalid-auc:0.886759\n",
      "[2000]\ttrain-auc:0.963619\tvalid-auc:0.890474\n",
      "[2500]\ttrain-auc:0.968671\tvalid-auc:0.892379\n",
      "[3000]\ttrain-auc:0.972747\tvalid-auc:0.893254\n",
      "[3500]\ttrain-auc:0.976475\tvalid-auc:0.893749\n",
      "[4000]\ttrain-auc:0.980078\tvalid-auc:0.893948\n",
      "[4500]\ttrain-auc:0.983611\tvalid-auc:0.894063\n",
      "Stopping. Best iteration:\n",
      "[4403]\ttrain-auc:0.982976\tvalid-auc:0.894105\n",
      "\n",
      "0.8952799970597762\n",
      "Wall time: 2h 27min\n"
     ]
    }
   ],
   "source": [
    "%%time\n",
    "oof_pred = np.zeros(train_df.shape[0])\n",
    "tst_pred = np.zeros(test_df.shape[0])\n",
    "imp = np.zeros(len(feats))\n",
    "rounds = 0\n",
    "for trn_ids,val_ids in skf.split(train_df.index,train_df['target']):\n",
    "    rounds += 1\n",
    "    print('Round %d'%rounds)\n",
    "    trn_xgb = xgb.DMatrix(train_df.iloc[trn_ids,:][feats],train_df.iloc[trn_ids,:]['target'])\n",
    "    val_xgb = xgb.DMatrix(train_df.iloc[val_ids,:][feats],train_df.iloc[val_ids,:]['target'])\n",
    "    watchlist = [(trn_xgb, 'train'), (val_xgb, 'valid')]\n",
    "    evals_result = {}\n",
    "    model = xgb.train(params,trn_xgb, num_boost_round = 1000000,evals = watchlist,early_stopping_rounds=500,evals_result=evals_result,verbose_eval =500)\n",
    "    \n",
    "    oof_pred[val_ids] = model.predict(val_xgb)\n",
    "    \n",
    "    tst_pred += model.predict(tst_xgb)/n_splits\n",
    "    \n",
    "    #imp += model.feature_importance('gain')/n_splits\n",
    "print(roc_auc_score(train_df['target'].values,oof_pred))"
   ]
  },
  {
   "cell_type": "code",
   "execution_count": 7,
   "metadata": {},
   "outputs": [],
   "source": [
    "sub_df = pd.DataFrame({\"ID_code\":test_df[\"ID_code\"].values})\n",
    "sub_df[\"target\"] = tst_pred\n",
    "sub_df.to_csv(\"xgb_sumb_0.8952AUC.csv\", index=False)"
   ]
  },
  {
   "cell_type": "code",
   "execution_count": 23,
   "metadata": {},
   "outputs": [],
   "source": []
  },
  {
   "cell_type": "code",
   "execution_count": null,
   "metadata": {},
   "outputs": [],
   "source": []
  },
  {
   "cell_type": "code",
   "execution_count": 26,
   "metadata": {},
   "outputs": [],
   "source": []
  },
  {
   "cell_type": "code",
   "execution_count": null,
   "metadata": {},
   "outputs": [],
   "source": []
  }
 ],
 "metadata": {
  "kernelspec": {
   "display_name": "Python 3",
   "language": "python",
   "name": "python3"
  },
  "language_info": {
   "codemirror_mode": {
    "name": "ipython",
    "version": 3
   },
   "file_extension": ".py",
   "mimetype": "text/x-python",
   "name": "python",
   "nbconvert_exporter": "python",
   "pygments_lexer": "ipython3",
   "version": "3.7.1"
  }
 },
 "nbformat": 4,
 "nbformat_minor": 2
}
